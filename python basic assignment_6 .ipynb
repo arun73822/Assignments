{
 "cells": [
  {
   "cell_type": "raw",
   "id": "0a274294",
   "metadata": {},
   "source": [
    "1. What are escape characters, and how do you use them?\n",
    "\n",
    "Ans:\n",
    "        Escape characters are \\' , \\\" , \\t , \\n\n",
    "print('kumar\\'s')\n",
    "print(\"navin \\\"kumar\\\" srinu\")\n",
    "print('hello')\n",
    "print('\\thello')\n",
    "print('mokshit\\nvyshnavi\\nnavin')"
   ]
  },
  {
   "cell_type": "raw",
   "id": "31a076eb",
   "metadata": {},
   "source": [
    "2. What do the escape characters n and t stand for?\n",
    "\n",
    "Ans: \\n----> new line or line break\n",
    "     \\t----> Tab"
   ]
  },
  {
   "cell_type": "raw",
   "id": "d4b9ebcc",
   "metadata": {},
   "source": [
    "3. What is the way to include backslash characters in a string?\n",
    "\n",
    "Ans: The escape character backslah(\\) followed by character you want to insert.\n",
    "     eg: print(\"kumar\\'s\")"
   ]
  },
  {
   "cell_type": "raw",
   "id": "3626813c",
   "metadata": {},
   "source": [
    "4. The string 'Howl's Moving Castle' is a correct value. Why isn't the single quote character in the\n",
    "word Howl's not escaped a problem?\n",
    "\n",
    "Ans: because not menction with in the double quotes or use the backslah before the character like menctioned below\n",
    "      print(\"Howl's Moving Castle\")\n",
    "      print('Howl\\'s Moving Castle')"
   ]
  },
  {
   "cell_type": "raw",
   "id": "34182224",
   "metadata": {},
   "source": [
    "5. How do you write a string of newlines if you don't want to use the n character?\n",
    "\n",
    "Ans: by using print function only can achieve it\n",
    "    print('aaaaaa')\n",
    "    print('bbbbbb')"
   ]
  },
  {
   "cell_type": "raw",
   "id": "8bda8c7c",
   "metadata": {},
   "source": [
    "6. What are the values of the given expressions?\n",
    "'Hello, world!'[1]-------> 'e'\n",
    "'Hello, world!'[0:5]-----> 'Hello'\n",
    "'Hello, world!'[:5]------> 'Hello'\n",
    "'Hello, world!'[3:]------> 'lo, world!'"
   ]
  },
  {
   "cell_type": "raw",
   "id": "196ba80b",
   "metadata": {},
   "source": [
    "7. What are the values of the following expressions?\n",
    "'Hello'.upper()-----------------> 'HELLO'\n",
    "'Hello'.upper().isupper()-------> True\n",
    "'Hello'.upper().lower()---------> 'hello'"
   ]
  },
  {
   "cell_type": "raw",
   "id": "5e9c67b8",
   "metadata": {},
   "source": [
    "8. What are the values of the following expressions?\n",
    "'Remember, remember, the fifth of July.'.split()\n",
    "'-'.join('There can only one.'.split())\n",
    "\n",
    "Ans:  \n",
    "       ['Remember,', 'remember,', 'the', 'fifth', 'of', 'July.']\n",
    "       'There-can-only-one.'\n",
    "       "
   ]
  },
  {
   "cell_type": "raw",
   "id": "c3b81800",
   "metadata": {},
   "source": [
    "9. What are the methods for right-justifying, left-justifying, and centering a string?\n",
    "\n",
    "Ans: The methods are rjust(len,fillchar),ljust(len,fillchar),center(len,fillchar)"
   ]
  },
  {
   "cell_type": "raw",
   "id": "a059afc2",
   "metadata": {},
   "source": [
    "10. What is the best way to remove whitespace characters from the start or end?\n",
    "\n",
    "Ans: By using strip() method we can remove white spaces characters in string\n",
    "     eg: s= '  kumar  '\n",
    "         print(len(s))\n",
    "         s1=s.strip()\n",
    "         print(len(s1))"
   ]
  }
 ],
 "metadata": {
  "kernelspec": {
   "display_name": "Python 3 (ipykernel)",
   "language": "python",
   "name": "python3"
  },
  "language_info": {
   "codemirror_mode": {
    "name": "ipython",
    "version": 3
   },
   "file_extension": ".py",
   "mimetype": "text/x-python",
   "name": "python",
   "nbconvert_exporter": "python",
   "pygments_lexer": "ipython3",
   "version": "3.9.7"
  }
 },
 "nbformat": 4,
 "nbformat_minor": 5
}
