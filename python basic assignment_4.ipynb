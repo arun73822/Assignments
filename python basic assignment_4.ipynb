{
 "cells": [
  {
   "cell_type": "raw",
   "id": "4416e858",
   "metadata": {},
   "source": [
    "1. What exactly is []?\n",
    "\n",
    "Ans: The list is reprajented as square brackets i.e [] and it is ordered collection of data,mutability,repeatability of data and empty list can reprajented as like b=[]."
   ]
  },
  {
   "cell_type": "code",
   "execution_count": 3,
   "id": "24566fe5",
   "metadata": {},
   "outputs": [
    {
     "data": {
      "text/plain": [
       "[2, 4, 'hello', 6, 8, 10]"
      ]
     },
     "execution_count": 3,
     "metadata": {},
     "output_type": "execute_result"
    }
   ],
   "source": [
    "#2. In a list of values stored in a variable called spam, how would you assign the value 'hello'as the\n",
    "#third value? (Assume [2, 4, 6, 8, 10] are in spam.)\n",
    "\n",
    "spam=[2,4,6,8,10]\n",
    "spam.insert(2,'hello')\n",
    "spam"
   ]
  },
  {
   "cell_type": "raw",
   "id": "dc43299b",
   "metadata": {},
   "source": [
    "Let's pretend the spam includes the list ['a','b','c','d'] for the next three queries."
   ]
  },
  {
   "cell_type": "raw",
   "id": "e4fc06ab",
   "metadata": {},
   "source": [
    "3. What is the value of spam[int(int('3' * 2) / 11)]?\n",
    "\n",
    "Ans: 'd'\n",
    "      \n",
    "      explanation:  \n",
    "                      '3'*2----->33\n",
    "                       33/11----->3\n",
    "                       spam[3]---->'d'"
   ]
  },
  {
   "cell_type": "raw",
   "id": "5be39842",
   "metadata": {},
   "source": [
    "4. What is the value of spam[-1]?\n",
    "\n",
    "Ans: 'd'"
   ]
  },
  {
   "cell_type": "code",
   "execution_count": 10,
   "id": "2f55eb10",
   "metadata": {},
   "outputs": [
    {
     "data": {
      "text/plain": [
       "[3.14, 'cat', 11, 'cat', True, 99]"
      ]
     },
     "execution_count": 10,
     "metadata": {},
     "output_type": "execute_result"
    }
   ],
   "source": [
    "bacon=[3.14, 'cat',11,'cat',True]\n",
    "bacon.append(99)\n",
    "bacon"
   ]
  },
  {
   "cell_type": "raw",
   "id": "7e13ab5a",
   "metadata": {},
   "source": [
    "5. What is the value of spam[:2]?\n",
    "\n",
    "Ans: ['a','b']"
   ]
  },
  {
   "cell_type": "raw",
   "id": "75fa0922",
   "metadata": {},
   "source": [
    "Let's pretend bacon has the list [3.14, 'cat',11,'cat',True] for the next three questions."
   ]
  },
  {
   "cell_type": "raw",
   "id": "12fb1d12",
   "metadata": {},
   "source": [
    "6. What is the value of bacon.index('cat')?\n",
    "Ans: 1"
   ]
  },
  {
   "cell_type": "code",
   "execution_count": 11,
   "id": "59a05fb3",
   "metadata": {},
   "outputs": [
    {
     "data": {
      "text/plain": [
       "[3.14, 'cat', 11, 'cat', True, 99]"
      ]
     },
     "execution_count": 11,
     "metadata": {},
     "output_type": "execute_result"
    }
   ],
   "source": [
    "#7. How does bacon.append(99) change the look of the list value in bacon?\n",
    "bacon=[3.14, 'cat',11,'cat',True]\n",
    "bacon.append(99)\n",
    "bacon."
   ]
  },
  {
   "cell_type": "code",
   "execution_count": 12,
   "id": "44221b61",
   "metadata": {},
   "outputs": [
    {
     "data": {
      "text/plain": [
       "[3.14, 11, 'cat', True]"
      ]
     },
     "execution_count": 12,
     "metadata": {},
     "output_type": "execute_result"
    }
   ],
   "source": [
    "#8. How does bacon.remove('cat') change the look of the list in bacon?\n",
    "bacon=[3.14, 'cat',11,'cat',True]\n",
    "bacon.remove('cat')\n",
    "bacon"
   ]
  },
  {
   "cell_type": "raw",
   "id": "09b2cbed",
   "metadata": {},
   "source": [
    "9. What are the list concatenation and list replication operators?\n",
    "\n",
    "Ans: append,index, plus(+) symbol methods are used to make list concatenation and list replication operator is multiplication(*) symbol."
   ]
  },
  {
   "cell_type": "raw",
   "id": "4655a2bf",
   "metadata": {},
   "source": [
    "10. What is difference between the list methods append() and insert()?\n",
    "\n",
    "Ans: \n",
    "       The append method is used to attach the any data type last position in the list and insert method is used to attach the any data type in the any index position of the list."
   ]
  },
  {
   "cell_type": "raw",
   "id": "8d37c66c",
   "metadata": {},
   "source": [
    "11. What are the two methods for removing items from a list?\n",
    "\n",
    "Ans: pop(),remove() methods are used to remove items from list"
   ]
  },
  {
   "cell_type": "raw",
   "id": "5fd6fc33",
   "metadata": {},
   "source": [
    "12. Describe how list values and string values are identical.\n",
    "\n",
    "Ans: In list and string we get the values by using indexes of particular element\n",
    "    In list and string slicing operation is possiable\n",
    "    In list and string concatination is possible"
   ]
  },
  {
   "cell_type": "raw",
   "id": "e43fad9c",
   "metadata": {},
   "source": [
    "13. What's the difference between tuples and lists?\n",
    "\n",
    "Ans: list is reprajented as square brackets i.e [] and it is mutable,any data type present inside it,repeatative data is present inside list.\n",
    "     Tuple is reprajented as round brackets i.e () and it is Immutable,any data type present inside it,repeatative data is present inside tuple."
   ]
  },
  {
   "cell_type": "code",
   "execution_count": 31,
   "id": "8b2c27af",
   "metadata": {},
   "outputs": [
    {
     "data": {
      "text/plain": [
       "(42,)"
      ]
     },
     "execution_count": 31,
     "metadata": {},
     "output_type": "execute_result"
    }
   ],
   "source": [
    "#14. How do you type a tuple value that only contains the integer 42?\n",
    "t=(42,)\n",
    "t"
   ]
  },
  {
   "cell_type": "code",
   "execution_count": 33,
   "id": "ab77b090",
   "metadata": {},
   "outputs": [
    {
     "data": {
      "text/plain": [
       "(6, 7, 8, 9, 10)"
      ]
     },
     "execution_count": 33,
     "metadata": {},
     "output_type": "execute_result"
    }
   ],
   "source": [
    "#15. How do you get a list values tuple form? How do you get a tuple values list form?\n",
    "\n",
    "#Ans: Let \n",
    "\n",
    "t1=(1,2,3,4,5)\n",
    "list(t1)\n",
    "\n",
    "#AND\n",
    "\n",
    "l=[6,7,8,9,10]\n",
    "tuple(l)"
   ]
  },
  {
   "cell_type": "raw",
   "id": "fa423c7b",
   "metadata": {},
   "source": [
    "16. Variables that \"contain\" list values are not necessarily lists themselves. Instead, what do they\n",
    "contain?\n",
    "Iam not understand the question"
   ]
  },
  {
   "cell_type": "raw",
   "id": "9f827d15",
   "metadata": {},
   "source": [
    "17. How do you distinguish between copy.copy() and copy.deepcopy()?\n",
    "\n",
    "Ans: \n",
    "     Shallow copy: let take two lists and change the one of the value in the first list and that will reflected in second list also, address of two list is diffrent.\n",
    "     Deep copy: let take two lists and change the one of the value in the first list and that will not reflected in second list, address of two list is diffrent."
   ]
  }
 ],
 "metadata": {
  "kernelspec": {
   "display_name": "Python 3 (ipykernel)",
   "language": "python",
   "name": "python3"
  },
  "language_info": {
   "codemirror_mode": {
    "name": "ipython",
    "version": 3
   },
   "file_extension": ".py",
   "mimetype": "text/x-python",
   "name": "python",
   "nbconvert_exporter": "python",
   "pygments_lexer": "ipython3",
   "version": "3.9.7"
  }
 },
 "nbformat": 4,
 "nbformat_minor": 5
}
