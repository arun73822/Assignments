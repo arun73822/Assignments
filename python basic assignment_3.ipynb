{
 "cells": [
  {
   "cell_type": "raw",
   "id": "6e39799f",
   "metadata": {},
   "source": [
    "1. Why are functions advantageous to have in your programs?\n",
    "\n",
    "Ans: It helpps to divide the complex problem into smaller groups so that we can easy to understand the code,debug the code and when logic is required in repeatative times in that condition we call the function instead of writting again the logic."
   ]
  },
  {
   "cell_type": "raw",
   "id": "0d031007",
   "metadata": {},
   "source": [
    "2. When does the code in a function run: when it's specified or when it's called?\n",
    "\n",
    "Ans:  The function runs when it is called"
   ]
  },
  {
   "cell_type": "raw",
   "id": "07820b7d",
   "metadata": {},
   "source": [
    "3. What statement creates a function?\n",
    "\n",
    "Ans: def statement creates the function\n",
    "           syntax : def<function name>(parametes):\n",
    "           we can call the function shown as <function name>(arguments)"
   ]
  },
  {
   "cell_type": "raw",
   "id": "5c386138",
   "metadata": {},
   "source": [
    "4. What is the difference between a function and a function call?\n",
    "\n",
    "Ans: The function is part of program and function contains the piece of the code when execution of the function we can use call the function where ever is required."
   ]
  },
  {
   "cell_type": "raw",
   "id": "d5cc9b6a",
   "metadata": {},
   "source": [
    "5. How many global scopes are there in a Python program? How many local scopes?\n",
    "\n",
    "Ans: Iam thinking that problem statement is wrong."
   ]
  },
  {
   "cell_type": "raw",
   "id": "54d8039a",
   "metadata": {},
   "source": [
    "6. What happens to variables in a local scope when the function call returns?\n",
    "\n",
    "Ans: When function returns local scope is destroyed by default and local variables are forgot it"
   ]
  },
  {
   "cell_type": "raw",
   "id": "ffd3c8d7",
   "metadata": {},
   "source": [
    "7. What is the concept of a return value? Is it possible to have a return value in an expression?\n",
    "\n",
    "Ans: return statement is used to returns the result(value of the expression).the statements after return are not executed and return can't be used in outside the function."
   ]
  },
  {
   "cell_type": "raw",
   "id": "ae32f4e2",
   "metadata": {},
   "source": [
    "8. If a function does not have a return statement, what is the return value of a call to that function?\n",
    "\n",
    "Ans: If call the function without return it will returns the None."
   ]
  },
  {
   "cell_type": "raw",
   "id": "5b1e1ea9",
   "metadata": {},
   "source": [
    "9. How do you make a function variable refer to the global variable?\n",
    "\n",
    "Ans: If define a variable in inside the function and that vaiable is used outside of the function we can declare that particular variable as global by using global keyword inside the function. and we can also use                        globals()['global vairiable']"
   ]
  },
  {
   "cell_type": "raw",
   "id": "cebe304f",
   "metadata": {},
   "source": [
    "10. What is the data type of None?\n",
    "\n",
    "Ans:  None data type of none type class and none data type doesnot contain the any value.Inside the function print statement gives the None data type."
   ]
  },
  {
   "cell_type": "raw",
   "id": "82f1992f",
   "metadata": {},
   "source": [
    "11. What does the sentence import areallyourpetsnamederic do?\n",
    "\n",
    "Ans: If we can import above menction sentence it will gives the modulenotfound error."
   ]
  },
  {
   "cell_type": "raw",
   "id": "1bb94f40",
   "metadata": {},
   "source": [
    "12. If you had a bacon() feature in a spam module, what would you call it after importing spam?\n",
    "\n",
    "Ans: from spam import bacon\n",
    "     bacon()\n",
    "                   what are the statements are present inside the bacon function it will show in the console."
   ]
  },
  {
   "cell_type": "raw",
   "id": "7e2ce2a7",
   "metadata": {},
   "source": [
    "13. What can you do to save a programme from crashing if it encounters an error?\n",
    "\n",
    "Ans: we can write lines of code in try block. This will not crash the programme. And in except block we can catch the \n",
    "exception"
   ]
  },
  {
   "cell_type": "raw",
   "id": "f1b89853",
   "metadata": {},
   "source": [
    "14. What is the purpose of the try clause? What is the purpose of the except clause?\n",
    "\n",
    "Ans: In program any errors occured in run time in that condition program will be crash its leads to happen any thing in reality so that did not face any issue we can use try block and except block is used except that error we are facing."
   ]
  }
 ],
 "metadata": {
  "kernelspec": {
   "display_name": "Python 3 (ipykernel)",
   "language": "python",
   "name": "python3"
  },
  "language_info": {
   "codemirror_mode": {
    "name": "ipython",
    "version": 3
   },
   "file_extension": ".py",
   "mimetype": "text/x-python",
   "name": "python",
   "nbconvert_exporter": "python",
   "pygments_lexer": "ipython3",
   "version": "3.9.7"
  }
 },
 "nbformat": 4,
 "nbformat_minor": 5
}
