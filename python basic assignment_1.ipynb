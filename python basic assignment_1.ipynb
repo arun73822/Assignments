{
 "cells": [
  {
   "cell_type": "raw",
   "id": "968594e0",
   "metadata": {},
   "source": [
    "1. In the below elements which of them are values or an expression? eg:- values can be\n",
    "integer or string and expressions will be mathematical operators.\n",
    "*\n",
    "'hello'\n",
    "-87.8\n",
    "-\n",
    "/\n",
    "+\n",
    "6\n",
    "\n",
    "\n",
    "Ans: The values are 'hello', 6,-87.8\n",
    "     The expressions are *,-,/,+\n"
   ]
  },
  {
   "cell_type": "raw",
   "id": "cc5dab25",
   "metadata": {},
   "source": [
    "2. What is the difference between string and variable?\n",
    "\n",
    "Ans: \n",
    "     eg: let b='arun kumar'\n",
    "         In above example b will be variable and arun kumar is string\n",
    "         string is series of charecters with in a single or double quotes \n",
    "         variable is name that can be assiangned to any data type i.e integer,float,string,list etc."
   ]
  },
  {
   "cell_type": "raw",
   "id": "b24d020e",
   "metadata": {},
   "source": [
    "3.Describe three different data types.\n",
    "\n",
    "Ans:\n",
    "     1.Integer: It can be defined as int and it contains all positive or negitive of whole numbers without decimal point.          examples are -1,-2,0,1,2 and so on\n",
    "     2.Float: It can be repjented as float and it contains decimal point of all numbes examples are -11.45,0.5,4.7 and so          on\n",
    "     3.Complex: It can be reprajented as complex and it contains realpart and imaginary part of it.examples are                    -2+8j,2+9j,-2-3j,4-7j.\n",
    "     4.Boolean: It can be defined as bool class and it has reprajeneted as True(1) and False(0)\n",
    "     5.List: It is collection of integers,float,complex,strings,boolean and it is ordered collection,mutable(i.e we can            change the values inside the list) and list is created by using square brackets i.e []\n",
    "     6.Tuple: Tuple is like as list but only difference is it is immutable and created by using round brackets i.e ()\n",
    "     7.Set: Set is unordered collection of data and repeatative elements are not present in it and it is immutable and            created by usind curley brackets i.e {}\n",
    "     8.String: String is sequence of charecters and created by using sinle or double quotes\n",
    "     "
   ]
  },
  {
   "cell_type": "raw",
   "id": "368e61f8",
   "metadata": {},
   "source": [
    "4. What is an expression made up of? What do all expressions do?\n",
    "\n",
    "Ans: Expression is made up of combination of values and mathamatical operations(operands) and brackets. It can be calculete by using BODMAS rule.\n",
    "eg: (45*56)+79-236/6+100.\n",
    "     By using expressions we can find the value or result of that paticular expression\n",
    "     "
   ]
  },
  {
   "cell_type": "raw",
   "id": "c8592aae",
   "metadata": {},
   "source": [
    "5. This assignment statements, like spam = 10. What is the difference between an\n",
    "expression and a statement?\n",
    "\n",
    "Ans: Statement is contain the keyword but Expresiion is not contain the keyword.In the question spam=10 is statement but not expression."
   ]
  },
  {
   "cell_type": "raw",
   "id": "babb332f",
   "metadata": {},
   "source": [
    "6. After running the following code, what does the variable bacon contain?\n",
    "bacon = 22\n",
    "bacon + 1\n",
    "\n",
    "Ans:  22"
   ]
  },
  {
   "cell_type": "code",
   "execution_count": null,
   "id": "67c4135f",
   "metadata": {},
   "outputs": [],
   "source": [
    "7. What should the values of the following two terms be?\n",
    "'spam' + 'spamspam'\n",
    "'spam'* 3\n",
    "\n",
    "Ans:\n",
    "     'spamspamspam'\n",
    "     'spamspamspam'"
   ]
  },
  {
   "cell_type": "raw",
   "id": "e034aaef",
   "metadata": {},
   "source": [
    "8. Why is eggs a valid variable name while 100 is invalid?\n",
    "\n",
    "Ans: 100 is not a variable it is a value so that eggs is valid vaiable"
   ]
  },
  {
   "cell_type": "raw",
   "id": "9fe8bad6",
   "metadata": {},
   "source": [
    "9. What three functions can be used to get the integer, floating-point number, or string\n",
    "version of a value?\n",
    "\n",
    "Ans: int(),float(),str()\n",
    "      "
   ]
  },
  {
   "cell_type": "raw",
   "id": "c2a286d4",
   "metadata": {},
   "source": [
    "10. Why does this expression cause an error? How can you fix it?\n",
    "'I have eaten' + 99 +  'burritos'\n",
    "\n",
    "Ans: If we can concatenate of only one type of data type but above question given that string and integer so that cannot\n",
    "    possiable.but integer can be convet to string format then will be possiable."
   ]
  }
 ],
 "metadata": {
  "kernelspec": {
   "display_name": "Python 3 (ipykernel)",
   "language": "python",
   "name": "python3"
  },
  "language_info": {
   "codemirror_mode": {
    "name": "ipython",
    "version": 3
   },
   "file_extension": ".py",
   "mimetype": "text/x-python",
   "name": "python",
   "nbconvert_exporter": "python",
   "pygments_lexer": "ipython3",
   "version": "3.9.7"
  }
 },
 "nbformat": 4,
 "nbformat_minor": 5
}
