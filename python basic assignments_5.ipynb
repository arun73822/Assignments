{
 "cells": [
  {
   "cell_type": "raw",
   "id": "2e8689fc",
   "metadata": {},
   "source": [
    "1. What does an empty dictionary's code look like?\n",
    "\n",
    "Ans: empty dictionary shown as {}\n",
    "\n",
    "d={}\n",
    "type(d)"
   ]
  },
  {
   "cell_type": "raw",
   "id": "ae63069e",
   "metadata": {},
   "source": [
    "2. What is the value of a dictionary value with the key 'foo' and the value 42?\n",
    "\n",
    "Ans: dict_values([42])\n",
    "\n",
    "d1={'foo':42}\n",
    "d1.values()"
   ]
  },
  {
   "cell_type": "raw",
   "id": "d45c1537",
   "metadata": {},
   "source": [
    "3. What is the most significant distinction between a dictionary and a list?\n",
    "\n",
    "Ans: \n",
    "     In dictionary we can give the own index(i.e key) assian to values but in list by default index is assianed like 0,1,2...n and unorder collection of data."
   ]
  },
  {
   "cell_type": "raw",
   "id": "4013d950",
   "metadata": {},
   "source": [
    "4. What happens if you try to access spam['foo'] if spam is {'bar': 100}?\n",
    "\n",
    "Ans: It gives the key error\n",
    "\n",
    "spam={'bar':100}\n",
    "spam['foo']"
   ]
  },
  {
   "cell_type": "raw",
   "id": "2c9f9dd6",
   "metadata": {},
   "source": [
    "5. If a dictionary is stored in spam, what is the difference between the expressions 'cat' in spam and\n",
    "'cat' in spam.keys()?\n",
    "\n",
    "Ans: No difference is between them both gives the True\n",
    "\n",
    "spam={'cat':200}\n",
    "'cat' in spam\n",
    "'cat' in spam.keys()"
   ]
  },
  {
   "cell_type": "raw",
   "id": "a46fa77f",
   "metadata": {},
   "source": [
    "6. If a dictionary is stored in spam, what is the difference between the expressions'cat'in spam and'cat'in spam.values()?\n",
    "\n",
    "Ans:\n",
    "     'cat' in spam---->True\n",
    "     'cat' in spam.values()---->False\n",
    "\n",
    "spam={'cat':200}\n",
    "'cat' in spam\n",
    "'cat' in spam.values()"
   ]
  },
  {
   "cell_type": "raw",
   "id": "1903c2e0",
   "metadata": {},
   "source": [
    "7. What is a shortcut for the following code?\n",
    "\n",
    "Ans:\n",
    "spam={'cat':200}\n",
    "if 'color'not in spam:\n",
    "    spam['color'] = 'black'\n",
    "    print(spam)"
   ]
  },
  {
   "cell_type": "raw",
   "id": "3769281f",
   "metadata": {},
   "source": [
    "8. How do you 'pretty print'dictionary values using which module and function?\n",
    "\n",
    "Ans: Pretty print with dictionarys is used to make output in more readble format by using format method and tabulate and pandas"
   ]
  }
 ],
 "metadata": {
  "kernelspec": {
   "display_name": "Python 3 (ipykernel)",
   "language": "python",
   "name": "python3"
  },
  "language_info": {
   "codemirror_mode": {
    "name": "ipython",
    "version": 3
   },
   "file_extension": ".py",
   "mimetype": "text/x-python",
   "name": "python",
   "nbconvert_exporter": "python",
   "pygments_lexer": "ipython3",
   "version": "3.9.7"
  }
 },
 "nbformat": 4,
 "nbformat_minor": 5
}
