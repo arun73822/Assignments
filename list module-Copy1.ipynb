{
 "cells": [
  {
   "cell_type": "code",
   "execution_count": 104,
   "id": "5338eb06",
   "metadata": {},
   "outputs": [],
   "source": [
    "import logging\n",
    "import copy\n",
    "\n",
    "logging.basicConfig(filename='list.log', level=logging.DEBUG, format='%(asctime)s,%(levelname)s,%(message)s')\n",
    "\n",
    "class list_1:\n",
    "    \"\"\" The list_1 class contains all operations of list like \n",
    "    append,copy,count,extend,index,insert,pop,remove,reverse,sort,clear \"\"\"\n",
    "    def __init__(self,x):\n",
    "        \"\"\" x is must be in form of list \"\"\"\n",
    "        self.x=x\n",
    "        logging.info('list is {}'.format(self.x))\n",
    "    def append(self,*a):\n",
    "        \"\"\" The append method takes only one argument. the argument is any data type \"\"\"\n",
    "        if type(self.x)==list:\n",
    "            self.x=self.x+[a]\n",
    "            logging.info('the value append is {}'.format(a))\n",
    "            logging.info('After append list is {}'.format(self.x))\n",
    "            return ('After append list is {}'.format(self.x))\n",
    "    def copy(self):\n",
    "        \"\"\" The copy method gives the shallow copy \"\"\"\n",
    "        x=input('Give the new list name ')\n",
    "        old_list=self.x\n",
    "        new_list=copy.copy(old_list)\n",
    "        logging.info('The new list name is {}'.format(x))\n",
    "        logging.info('old list is {}, {} is {}'.format(old_list,x,new_list))\n",
    "        logging.info('old list id is {}, {} id is {}'.format(id(old_list),x,id(new_list)))\n",
    "        return ('old list is {}, {} is {}'.format(old_list,x,new_list))\n",
    "    def count(self,r):\n",
    "        \"\"\" Return number of occurrences of value \"\"\"\n",
    "        a=r\n",
    "        count=0\n",
    "        for i in (self.x):\n",
    "            if type(i)==tuple or type(i)==list or type(i)==set:\n",
    "                for j in i:\n",
    "                    self.x.append(j)\n",
    "            elif type(i)==dict:\n",
    "                for l in i.values():\n",
    "                    self.x.append(l)\n",
    "            elif a==i:\n",
    "                count=count+1\n",
    "        logging.info('Number of occurences of {} is {} times pesent in the list'.format(a,count))\n",
    "        return count\n",
    "    def extend(self,y): \n",
    "        if type(y)==int or type(y)==float or type(y)==complex:\n",
    "            logging.exception('Please give valid input given to y')\n",
    "            raise TypeError('Please give valid input',y)\n",
    "        elif type(y)==list or type(y)==tuple or type(y)==str or type(y)==set:\n",
    "            for i in y:\n",
    "                (self.x).append(i)\n",
    "            logging.info('Extend total list is {}'.format(self.x))\n",
    "            return self.x\n",
    "    def index(self):\n",
    "        \"\"\" This function may help to find index of primitie data types \"\"\"\n",
    "        for i in range(len(self.x)):\n",
    "            if type(self.x[i])==int or type(self.x[i])==float or type(self.x[i])==str or type(self.x[i])==bool or type(self.x[i])==list or type(self.x[i])==tuple or type(self.x[i])==dict:\n",
    "                logging.info('element is {} , index is {} , type of element is {}'.format(self.x[i],i,type(self.x[i])))\n",
    "            if type(self.x[i])==list:\n",
    "                for j in range(len(self.x[i])):\n",
    "                    logging.info('element is {} , index is {} , type of element is {}'.format(self.x[i][j],j,type(self.x[i][j])))\n",
    "            if type(self.x[i])==tuple:\n",
    "                for k in range(len(self.x[i])):\n",
    "                    logging.info('element is {} , index is {} , type of element is {}'.format(self.x[i][k],k,type(self.x[i][k])))\n",
    "            if type(self.x[i])==dict:\n",
    "                for l in range(len(self.x[i])):\n",
    "                    for m in self.x[i].keys():\n",
    "                        for n in self.x[i].values():\n",
    "                            logging.info('key is {} , value is {} , type of value is {}'.format(m,n,type(n)))\n",
    "    def insert(self,ind,value):\n",
    "        \"\"\" Insert object before index.\"\"\"\n",
    "        s=len(self.x)\n",
    "        if len(self.x)<=ind:\n",
    "            self.x.append(value)\n",
    "            logging.info('The after insertion list is {}'.format(self.x))\n",
    "            return ('The after insertion list is {}'.format(self.x))\n",
    "        else:\n",
    "            self.x[ind]=value\n",
    "            logging.info('The afetr insertion list is {}'.format(self.x))\n",
    "            return ('The afetr insertion list is {}'.format(self.x))\n",
    "    def pop(self,index):\n",
    "        \"\"\" Remove and return item at index \"\"\"\n",
    "        logging.info('The poping element is {}'.format(self.x[index]))\n",
    "        l1=[]\n",
    "        for i in range(len(self.x)):\n",
    "            if self.x[index]!=self.x[i]:\n",
    "                l1.append(self.x[i])\n",
    "        self.x=l1\n",
    "        logging.info('After poping list is {}'.format(self.x))\n",
    "        return ('After poping list is {}'.format(self.x))\n",
    "    def remove(self,value):\n",
    "        \"\"\" Remove first occurrence of value.\"\"\"\n",
    "        l2=[]\n",
    "        for i in range(len(self.x)):\n",
    "            if value!=self.x[i]:\n",
    "                l2.append(self.x[i])\n",
    "            if value not in self.x:\n",
    "                logging.info('removing element is {}'.format(value))\n",
    "                logging.exception('element not in list {}'.format(value))\n",
    "                raise ValueError('element not in list',value)\n",
    "                break\n",
    "        self.x=l2\n",
    "        logging.info('After call removing method list is {}'.format(self.x))\n",
    "        return self.x\n",
    "    def reverse(self):\n",
    "        \"\"\" Reverse *IN PLACE*.\"\"\"\n",
    "        self.x=self.x[ : : -1]\n",
    "        logging.info('The After reversing list is {}'.format(self.x))\n",
    "        return self.x\n",
    "    def sort(self):\n",
    "        \"\"\" Sort the list in ascending order \"\"\"\n",
    "        for i in range(len(self.x)):\n",
    "            for j in range(i+1,len(self.x)):\n",
    "                try:\n",
    "                    if self.x[i]>self.x[j]:\n",
    "                        self.x[i],self.x[j]=self.x[j],self.x[i]\n",
    "                except Exception as e:\n",
    "                    logging.exception(e)\n",
    "                break    \n",
    "        return self.x        \n",
    "        logging.info('Sorted list is {}'.format(self.x))\n",
    "    def clear(self):\n",
    "        \"\"\" Remove all items from list.\"\"\"\n",
    "        l3=[]\n",
    "        self.x=l3\n",
    "        logging.info('After clear method executed list is {}'.format(self.x))\n",
    "        return self.x"
   ]
  },
  {
   "cell_type": "code",
   "execution_count": null,
   "id": "410f5d6a",
   "metadata": {},
   "outputs": [],
   "source": []
  },
  {
   "cell_type": "code",
   "execution_count": 105,
   "id": "11afb141",
   "metadata": {},
   "outputs": [],
   "source": [
    "b=list_1([1,2,3,4,5,7,90])"
   ]
  },
  {
   "cell_type": "code",
   "execution_count": 91,
   "id": "03a8ca45",
   "metadata": {},
   "outputs": [
    {
     "data": {
      "text/plain": [
       "\"After append list is [1, 2, 3, 4, 5, 7, 90, ([90, 20, 19], (60, 45, 78), {'k1': 1, 'k2': 2})]\""
      ]
     },
     "execution_count": 91,
     "metadata": {},
     "output_type": "execute_result"
    }
   ],
   "source": [
    "b.append([90,20,19],(60,45,78),{'k1':1,'k2':2})"
   ]
  },
  {
   "cell_type": "code",
   "execution_count": 80,
   "id": "9e7c04b0",
   "metadata": {},
   "outputs": [
    {
     "name": "stdout",
     "output_type": "stream",
     "text": [
      "Give the new list name newlist1\n"
     ]
    },
    {
     "data": {
      "text/plain": [
       "\"old list is [1, 2, 3, 4, 5, 7, 90, ([90, 20, 19], (60, 45, 78), {'k1': 1, 'k2': 2})], newlist1 is [1, 2, 3, 4, 5, 7, 90, ([90, 20, 19], (60, 45, 78), {'k1': 1, 'k2': 2})]\""
      ]
     },
     "execution_count": 80,
     "metadata": {},
     "output_type": "execute_result"
    }
   ],
   "source": [
    "b.copy()"
   ]
  },
  {
   "cell_type": "code",
   "execution_count": 92,
   "id": "4d5df047",
   "metadata": {},
   "outputs": [
    {
     "data": {
      "text/plain": [
       "2"
      ]
     },
     "execution_count": 92,
     "metadata": {},
     "output_type": "execute_result"
    }
   ],
   "source": [
    "b.count(1)"
   ]
  },
  {
   "cell_type": "code",
   "execution_count": 93,
   "id": "cc95d819",
   "metadata": {},
   "outputs": [
    {
     "data": {
      "text/plain": [
       "[1,\n",
       " 2,\n",
       " 3,\n",
       " 4,\n",
       " 5,\n",
       " 7,\n",
       " 90,\n",
       " ([90, 20, 19], (60, 45, 78), {'k1': 1, 'k2': 2}),\n",
       " [90, 20, 19],\n",
       " (60, 45, 78),\n",
       " {'k1': 1, 'k2': 2},\n",
       " 90,\n",
       " 20,\n",
       " 19,\n",
       " 60,\n",
       " 45,\n",
       " 78,\n",
       " 1,\n",
       " 2,\n",
       " 100,\n",
       " 2.3]"
      ]
     },
     "execution_count": 93,
     "metadata": {},
     "output_type": "execute_result"
    }
   ],
   "source": [
    "b.extend([100,2.3])"
   ]
  },
  {
   "cell_type": "code",
   "execution_count": 83,
   "id": "42d0e31c",
   "metadata": {},
   "outputs": [],
   "source": [
    "b.index()"
   ]
  },
  {
   "cell_type": "code",
   "execution_count": 94,
   "id": "f56a062d",
   "metadata": {},
   "outputs": [
    {
     "data": {
      "text/plain": [
       "\"The afetr insertion list is [1, 2, 3, 7000, 5, 7, 90, ([90, 20, 19], (60, 45, 78), {'k1': 1, 'k2': 2}), [90, 20, 19], (60, 45, 78), {'k1': 1, 'k2': 2}, 90, 20, 19, 60, 45, 78, 1, 2, 100, 2.3]\""
      ]
     },
     "execution_count": 94,
     "metadata": {},
     "output_type": "execute_result"
    }
   ],
   "source": [
    "b.insert(3,7000)"
   ]
  },
  {
   "cell_type": "code",
   "execution_count": 95,
   "id": "e7290077",
   "metadata": {},
   "outputs": [
    {
     "data": {
      "text/plain": [
       "\"After poping list is [1, 2, 3, 7000, 5, 7, ([90, 20, 19], (60, 45, 78), {'k1': 1, 'k2': 2}), [90, 20, 19], (60, 45, 78), {'k1': 1, 'k2': 2}, 20, 19, 60, 45, 78, 1, 2, 100, 2.3]\""
      ]
     },
     "execution_count": 95,
     "metadata": {},
     "output_type": "execute_result"
    }
   ],
   "source": [
    "b.pop(6)"
   ]
  },
  {
   "cell_type": "code",
   "execution_count": 96,
   "id": "8abe43da",
   "metadata": {},
   "outputs": [
    {
     "data": {
      "text/plain": [
       "[2,\n",
       " 3,\n",
       " 7000,\n",
       " 5,\n",
       " 7,\n",
       " ([90, 20, 19], (60, 45, 78), {'k1': 1, 'k2': 2}),\n",
       " [90, 20, 19],\n",
       " (60, 45, 78),\n",
       " {'k1': 1, 'k2': 2},\n",
       " 20,\n",
       " 19,\n",
       " 60,\n",
       " 45,\n",
       " 78,\n",
       " 2,\n",
       " 100,\n",
       " 2.3]"
      ]
     },
     "execution_count": 96,
     "metadata": {},
     "output_type": "execute_result"
    }
   ],
   "source": [
    "b.remove(1)"
   ]
  },
  {
   "cell_type": "code",
   "execution_count": 97,
   "id": "0c6aa2b6",
   "metadata": {},
   "outputs": [
    {
     "data": {
      "text/plain": [
       "[2.3,\n",
       " 100,\n",
       " 2,\n",
       " 78,\n",
       " 45,\n",
       " 60,\n",
       " 19,\n",
       " 20,\n",
       " {'k1': 1, 'k2': 2},\n",
       " (60, 45, 78),\n",
       " [90, 20, 19],\n",
       " ([90, 20, 19], (60, 45, 78), {'k1': 1, 'k2': 2}),\n",
       " 7,\n",
       " 5,\n",
       " 7000,\n",
       " 3,\n",
       " 2]"
      ]
     },
     "execution_count": 97,
     "metadata": {},
     "output_type": "execute_result"
    }
   ],
   "source": [
    "b.reverse()"
   ]
  },
  {
   "cell_type": "code",
   "execution_count": 98,
   "id": "a3c1a26c",
   "metadata": {},
   "outputs": [
    {
     "data": {
      "text/plain": [
       "[2.3,\n",
       " 2,\n",
       " 78,\n",
       " 45,\n",
       " 60,\n",
       " 19,\n",
       " 20,\n",
       " 100,\n",
       " {'k1': 1, 'k2': 2},\n",
       " (60, 45, 78),\n",
       " [90, 20, 19],\n",
       " ([90, 20, 19], (60, 45, 78), {'k1': 1, 'k2': 2}),\n",
       " 5,\n",
       " 7,\n",
       " 3,\n",
       " 2,\n",
       " 7000]"
      ]
     },
     "execution_count": 98,
     "metadata": {},
     "output_type": "execute_result"
    }
   ],
   "source": [
    "b.sort()"
   ]
  },
  {
   "cell_type": "code",
   "execution_count": null,
   "id": "506e0710",
   "metadata": {},
   "outputs": [],
   "source": [
    "b.clear()"
   ]
  },
  {
   "cell_type": "code",
   "execution_count": null,
   "id": "293daf63",
   "metadata": {},
   "outputs": [],
   "source": [
    "logging.shutdown()"
   ]
  },
  {
   "cell_type": "code",
   "execution_count": null,
   "id": "c79b6238",
   "metadata": {},
   "outputs": [],
   "source": []
  }
 ],
 "metadata": {
  "kernelspec": {
   "display_name": "Python 3 (ipykernel)",
   "language": "python",
   "name": "python3"
  },
  "language_info": {
   "codemirror_mode": {
    "name": "ipython",
    "version": 3
   },
   "file_extension": ".py",
   "mimetype": "text/x-python",
   "name": "python",
   "nbconvert_exporter": "python",
   "pygments_lexer": "ipython3",
   "version": "3.9.7"
  }
 },
 "nbformat": 4,
 "nbformat_minor": 5
}
