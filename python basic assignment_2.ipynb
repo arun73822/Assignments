{
 "cells": [
  {
   "cell_type": "raw",
   "id": "636941d7",
   "metadata": {},
   "source": [
    "1.What are the two values of the Boolean data type? How do you write them?\n",
    "\n",
    "Ans: True(1) and False(0)"
   ]
  },
  {
   "cell_type": "raw",
   "id": "df916f41",
   "metadata": {},
   "source": [
    "2. What are the three different types of Boolean operators?\n",
    "\n",
    "Ans: AND operator\n",
    "     OR operator\n",
    "     NOT operator"
   ]
  },
  {
   "cell_type": "raw",
   "id": "5cf9c66e",
   "metadata": {},
   "source": [
    "3. Make a list of each Boolean operator&#39;s truth tables (i.e. every possible combination of Boolean\n",
    "values for the operator and what it evaluate )\n",
    "\n",
    "Ans: \n",
    "      AND operator:      \n",
    "                        X     Y     X&Y\n",
    "                        0     0      0\n",
    "                        0     1      0\n",
    "                        1     0      0\n",
    "                        1     1      1\n",
    "     OR operator:\n",
    "                        X     Y      X^Y\n",
    "                        0     0       0\n",
    "                        0     1       1\n",
    "                        1     0       1\n",
    "                        1     1       1\n",
    "     NOT operator:\n",
    "                         X      NOT X\n",
    "                         0         1\n",
    "                         1         0"
   ]
  },
  {
   "cell_type": "raw",
   "id": "b08baccd",
   "metadata": {},
   "source": [
    "4. What are the values of the following expressions?\n",
    "(A) (5 > 4) and (3 == 5)\n",
    "(B) not (5 > 4)\n",
    "(C) (5 > 4) or (3 == 5)\n",
    "(D) not ((5 > 4) or (3 == 5))\n",
    "(E) (True and True) and (True == False)\n",
    "(F) (not False) or (not True)\n",
    "\n",
    "Ans: (A):False\n",
    "     (B):False\n",
    "     (C):True\n",
    "     (D):False\n",
    "     (E):False\n",
    "     (F):True\n",
    "       "
   ]
  },
  {
   "cell_type": "raw",
   "id": "07f0235f",
   "metadata": {},
   "source": [
    "5. What are the six comparison operators?\n",
    "\n",
    "Ans: Greterthan(>),Lessthan(<),Greterthan equalto(=>),Lessthan equalto(<=),Equal(==),Not Equal(!=)"
   ]
  },
  {
   "cell_type": "raw",
   "id": "16b05d3f",
   "metadata": {},
   "source": [
    "6. How do you tell the difference between the equal to and assignment operators?Describe a\n",
    "condition and when you would use one.\n",
    "\n",
    "Ans: eg: a=10 \n",
    "         In the above example value 10 is assian to vaiable a\n",
    "     eg: a==5\n",
    "         In the above example check whether a is equal to five.if condition is satisfied shows that True or False.\n",
    "     eg: if a==10:\n",
    "            print('yes')\n",
    "            in the above if condition satisfied then execute the below menction code"
   ]
  },
  {
   "cell_type": "raw",
   "id": "c8658cd2",
   "metadata": {},
   "source": [
    "7. Identify the three blocks in this code:\n",
    "spam = 0\n",
    "if spam == 10:\n",
    "print('eggs')\n",
    "if spam >5:\n",
    "print('bacon')\n",
    "else:\n",
    "print('ham')\n",
    "print('spam')\n",
    "print('spam')\n",
    "\n",
    "Ans:\n",
    "      it will gives output like 'ham'\n",
    "                                'spam'\n",
    "                                'spam'"
   ]
  },
  {
   "cell_type": "raw",
   "id": "c2ecdb0d",
   "metadata": {},
   "source": [
    "#8. Write code that prints Hello if 1 is stored in spam, prints Howdy if 2 is stored in spam, and prints\n",
    "#Greetings! if anything else is stored in spam.\n",
    "#Ans:\n",
    "\n",
    "spam=1\n",
    "if spam==1:\n",
    "    print('Hello')\n",
    "elif spam==2:\n",
    "    print('Howdy')\n",
    "else:\n",
    "    print('Greetings')"
   ]
  },
  {
   "cell_type": "raw",
   "id": "5a9e957b",
   "metadata": {},
   "source": [
    "9.If your programme is stuck in an endless loop, what keys you’ll press?\n",
    "Ans:  Interrupt the kernal in jupyter notebook\n",
    "    ctrl+f2 will be press in the pycharm"
   ]
  },
  {
   "cell_type": "raw",
   "id": "4243504e",
   "metadata": {},
   "source": [
    "10. How can you tell the difference between break and continue?\n",
    "\n",
    "Ans:\n",
    "     The break statement stop the endless loop or come out of the loop\n",
    "     The Continue statement is if condition is satisfied it will skip that particular if statement and go to the loop and execute the code"
   ]
  },
  {
   "cell_type": "raw",
   "id": "dd5bcafc",
   "metadata": {},
   "source": [
    "11. In a for loop, what is the difference between range(10), range(0, 10), and range(0, 10, 1)?\n",
    "\n",
    "Ans: In above question all conditions of output will be same. In range(10) by default it will take it as starting value is zero and ending values is 10 and step by value is one. and output is 0 to 9 only"
   ]
  },
  {
   "cell_type": "raw",
   "id": "8f72ead8",
   "metadata": {},
   "source": [
    "#12. Write a short program that prints the numbers 1 to 10 using a for loop. Then write an equivalent\n",
    "#program that prints the numbers 1 to 10 using a while loop.\n",
    "\n",
    "#Ans:\n",
    "\n",
    "for i in range(1,11):\n",
    "      print(i)\n",
    "       \n",
    "       (OR)\n",
    "       \n",
    "count=0\n",
    "while True:\n",
    "    print(count)\n",
    "    count=count+1\n",
    "    if count>10:\n",
    "        break   "
   ]
  },
  {
   "cell_type": "raw",
   "id": "39a0b613",
   "metadata": {},
   "source": [
    "#13. If you had a function named bacon() inside a module named spam, how would you call it after\n",
    "#importing spam?\n",
    "#Ans:\n",
    "\n",
    "from spam import bacon\n",
    "bacon()"
   ]
  }
 ],
 "metadata": {
  "kernelspec": {
   "display_name": "Python 3 (ipykernel)",
   "language": "python",
   "name": "python3"
  },
  "language_info": {
   "codemirror_mode": {
    "name": "ipython",
    "version": 3
   },
   "file_extension": ".py",
   "mimetype": "text/x-python",
   "name": "python",
   "nbconvert_exporter": "python",
   "pygments_lexer": "ipython3",
   "version": "3.9.7"
  }
 },
 "nbformat": 4,
 "nbformat_minor": 5
}
